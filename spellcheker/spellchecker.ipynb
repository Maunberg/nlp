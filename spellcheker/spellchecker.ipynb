{
 "cells": [
  {
   "cell_type": "markdown",
   "id": "0637e5fa-0f08-4290-a804-fe4d4cdd79a6",
   "metadata": {},
   "source": [
    "# Поиск качественных спеллчекеров "
   ]
  },
  {
   "cell_type": "markdown",
   "id": "1c0296be",
   "metadata": {},
   "source": [
    "Задача: проверить несколько спеллчекеров для поиска максимально удобного и качественного, создать функцию их очистки."
   ]
  },
  {
   "cell_type": "markdown",
   "id": "32d2d28c-95ea-4dc6-a87c-f16d239dfaf4",
   "metadata": {},
   "source": [
    "# Метрика"
   ]
  },
  {
   "cell_type": "markdown",
   "id": "788e2c1f-1735-48db-a75c-794c21d8cbe9",
   "metadata": {},
   "source": [
    "Использовать в качестве метрики будем так:\n",
    "\n",
    "1 - wer(чистый_текст, текст_спеллчекера)/ wer_тестового_текста_от_чистого\n",
    "\n",
    "Метрика будет стремиться к 1."
   ]
  },
  {
   "cell_type": "code",
   "execution_count": 1,
   "id": "781402d6-750d-4443-b99d-c4ce4c81ed4e",
   "metadata": {},
   "outputs": [],
   "source": [
    "def wer(reference, hypothesis):\n",
    "    # Разбиваем строки на слова, разделяя пробелами\n",
    "    ref_words = reference.split()\n",
    "    hyp_words = hypothesis.split()\n",
    "    \n",
    "    # Создаем матрицу расстояний для вычисления расстояния Левенштейна\n",
    "    matrix = [[0] * (len(hyp_words) + 1) for _ in range(len(ref_words) + 1)]\n",
    "    \n",
    "    # Инициализируем первую строку и первый столбец матрицы\n",
    "    for i in range(len(ref_words) + 1):\n",
    "        matrix[i][0] = i\n",
    "    for j in range(len(hyp_words) + 1):\n",
    "        matrix[0][j] = j\n",
    "    \n",
    "    # Заполняем матрицу расстояний\n",
    "    for i in range(1, len(ref_words) + 1):\n",
    "        for j in range(1, len(hyp_words) + 1):\n",
    "            cost = 0 if ref_words[i - 1] == hyp_words[j - 1] else 1\n",
    "            matrix[i][j] = min(matrix[i - 1][j] + 1, matrix[i][j - 1] + 1, matrix[i - 1][j - 1] + cost)\n",
    "    \n",
    "    # Расстояние Левенштейна между эталоном и распознанной последовательностями\n",
    "    distance = matrix[len(ref_words)][len(hyp_words)]\n",
    "    \n",
    "    # Вычисляем WER\n",
    "    wer = float(distance) / len(ref_words)\n",
    "    \n",
    "    return round(wer, 4)"
   ]
  },
  {
   "cell_type": "markdown",
   "id": "6959299b-fcd6-413b-bb22-7e56b53ffe9c",
   "metadata": {},
   "source": [
    "Также мы будем отслеживать скорость работы алгоритмов."
   ]
  },
  {
   "cell_type": "code",
   "execution_count": 2,
   "id": "83d458b7-13d7-4b52-85d8-42e4f41520fb",
   "metadata": {},
   "outputs": [],
   "source": [
    "import time\n",
    "\n",
    "def measure_time(func, *args, **kwargs):\n",
    "    start_time = time.time()\n",
    "    func(*args, **kwargs)\n",
    "    end_time = time.time()\n",
    "    return round(end_time - start_time, 4)"
   ]
  },
  {
   "cell_type": "markdown",
   "id": "58cd450a-6f61-4824-8d8a-b7736f77f39e",
   "metadata": {},
   "source": [
    "# Тестирование"
   ]
  },
  {
   "cell_type": "markdown",
   "id": "c017e72e-3c4e-4a0f-93d0-456b25abfa83",
   "metadata": {},
   "source": [
    "Мы подготовили два текста для тестирования спеллчекеров: один на русском, другой на английском."
   ]
  },
  {
   "cell_type": "code",
   "execution_count": 3,
   "id": "a52f4234-1a62-4781-9546-011ce5566f7d",
   "metadata": {},
   "outputs": [],
   "source": [
    "text1_train = '''Привет, клиенты! Мы вас преветствуем в нашем телефонном оператаре - МобилТел. \n",
    "У нас сейчас шикарние акциии на новии смартфони и тарифние плони. Если вы скорее заключете договор, вы можите получити смартфони по половиной цене. \n",
    "Это замечательно шанс сэкономить на своем новом устройстве. Также, у нас есть неограничены тарифи с началной ставкой всего в 500 рублей в месяц. \n",
    "Не упустите эту фантастическу офферту! Звоните нам прямо сейчас, чтобы пообщатся с одним из наших дружелюбних менеджеров. \n",
    "Благодарим вас за выбор МобилТел\n",
    "Сант-Петербург\n",
    "Санкт Петербург\n",
    "питер\n",
    "ирина и виктор'''"
   ]
  },
  {
   "cell_type": "code",
   "execution_count": 4,
   "id": "9e4357d8-81bb-4e69-9b78-3f031f2f900b",
   "metadata": {},
   "outputs": [],
   "source": [
    "text1_check = '''Привет, клиенты! Мы вас приветствуем в нашем телефонном операторе - МобилТел. \n",
    "У нас сейчас шикарные акции на новые смартфоны и тарифные планы. Если вы скорее заключите договор, вы можете получить смартфоны по половине цены. \n",
    "Это замечательный шанс сэкономить на своем новом устройстве. Также, у нас есть неограниченные тарифы с начальной ставкой всего в 500 рублей в месяц. \n",
    "Не упустите эту фантастическую оферту! Звоните нам прямо сейчас, чтобы пообщаться с одним из наших дружелюбных менеджеров. \n",
    "Благодарим вас за выбор МобилТел.\n",
    "Санкт-Петербург\n",
    "Санкт-Петербург\n",
    "Питер\n",
    "Ирина и Виктор\n",
    "'''"
   ]
  },
  {
   "cell_type": "code",
   "execution_count": 5,
   "id": "76e8cdcd-fc8e-48fe-8468-9f79011b203b",
   "metadata": {},
   "outputs": [],
   "source": [
    "text2_train = '''Hello, custumer suppor here. I'm writhing to inform yuo about our lates promossions on phonnes and daa plans. \n",
    "Our mobil operator, Cellnet, has exsciting deels that you won't want to miss. If yuo act now, yuo can get a brand new Iphone for halff the price. \n",
    "It's a great oppurtunity to save big on your new smartfone. Also, we have unlimitid data planns startin at just $20 per month. \n",
    "Don't mis out on this amasing ofer. Call us todai to speek with one of our frendly represntatives. \n",
    "Thank yuo for chosing Cellnet!'''"
   ]
  },
  {
   "cell_type": "code",
   "execution_count": 6,
   "id": "71119177-dd80-47ba-9f7d-5167dedbad1c",
   "metadata": {},
   "outputs": [],
   "source": [
    "text2_check = '''Hello, customer support here. I'm writing to inform you about our latest promotions on phones and data plans. \n",
    "Our mobile operator, Cellnet, has exciting deals that you won't want to miss. If you act now, you can get a brand new iPhone for half the price. \n",
    "It's a great opportunity to save big on your new smartphone. Also, we have unlimited data plans starting at just $20 per month. \n",
    "Don't miss out on this amazing offer. Call us today to speak with one of our friendly representatives. \n",
    "Thank you for choosing Cellnet!'''"
   ]
  },
  {
   "cell_type": "code",
   "execution_count": 7,
   "id": "954d9750-5792-44af-8f7c-6d6cec9b04ab",
   "metadata": {},
   "outputs": [
    {
     "data": {
      "text/plain": [
       "0.3412"
      ]
     },
     "execution_count": 7,
     "metadata": {},
     "output_type": "execute_result"
    }
   ],
   "source": [
    "wer1 = wer(text1_check, text1_train)\n",
    "wer1"
   ]
  },
  {
   "cell_type": "code",
   "execution_count": 8,
   "id": "ef3f066b-05f3-4e2a-a341-5fc36bbd843a",
   "metadata": {},
   "outputs": [
    {
     "data": {
      "text/plain": [
       "0.3152"
      ]
     },
     "execution_count": 8,
     "metadata": {},
     "output_type": "execute_result"
    }
   ],
   "source": [
    "wer2 = wer(text2_check, text2_train)\n",
    "wer2"
   ]
  },
  {
   "cell_type": "code",
   "execution_count": 9,
   "id": "2ee5dc1a-f23c-45f8-be50-a7c1d4ce6119",
   "metadata": {},
   "outputs": [],
   "source": [
    "results = [[\"spellchecker\", \"ru_text\", \"ru_time\", \"en_text\", \"en_time\", \"multilang\"]]"
   ]
  },
  {
   "cell_type": "markdown",
   "id": "55665d86-5979-458c-a235-0da0b4a9dfc4",
   "metadata": {},
   "source": [
    "# Яндекс"
   ]
  },
  {
   "cell_type": "code",
   "execution_count": 10,
   "id": "e6f32387-30ee-4686-a64e-c23c66469046",
   "metadata": {},
   "outputs": [
    {
     "name": "stdout",
     "output_type": "stream",
     "text": [
      "Requirement already satisfied: requests in c:\\users\\dmitri\\anaconda3\\lib\\site-packages (2.28.1)\n",
      "Requirement already satisfied: charset-normalizer<3,>=2 in c:\\users\\dmitri\\anaconda3\\lib\\site-packages (from requests) (2.0.4)\n",
      "Requirement already satisfied: urllib3<1.27,>=1.21.1 in c:\\users\\dmitri\\anaconda3\\lib\\site-packages (from requests) (1.26.14)\n",
      "Requirement already satisfied: idna<4,>=2.5 in c:\\users\\dmitri\\anaconda3\\lib\\site-packages (from requests) (3.4)\n",
      "Requirement already satisfied: certifi>=2017.4.17 in c:\\users\\dmitri\\anaconda3\\lib\\site-packages (from requests) (2022.12.7)\n",
      "Note: you may need to restart the kernel to use updated packages.\n"
     ]
    }
   ],
   "source": [
    "pip install requests"
   ]
  },
  {
   "cell_type": "code",
   "execution_count": 11,
   "id": "7bef45da-2b55-4a55-a7f8-060016d30cdd",
   "metadata": {},
   "outputs": [
    {
     "name": "stdout",
     "output_type": "stream",
     "text": [
      "[{'code': 1, 'pos': 11, 'row': 1, 'col': 5, 'len': 5, 'word': 'мылам', 's': ['мылом', 'мыла']}, {'code': 1, 'pos': 18, 'row': 2, 'col': 0, 'len': 5, 'word': 'рамму', 's': ['раму', 'рамку', 'маму']}]\n"
     ]
    }
   ],
   "source": [
    "import requests\n",
    "import json\n",
    "from tqdm import tqdm\n",
    "\n",
    "s = \"Мама \\nмыла мылам \\nрамму \"\n",
    "url = f\"https://speller.yandex.net/services/spellservice.json/checkText?text={s}\"\n",
    "\n",
    "# Выполняем GET-запрос\n",
    "response = requests.get(url)\n",
    "\n",
    "# Проверка статуса ответа\n",
    "if response.status_code == 200:\n",
    "    # Разбор JSON-ответа\n",
    "    data = json.loads(response.text)\n",
    "    \n",
    "    # Ваш код обработки данных здесь\n",
    "    \n",
    "    print(data)\n",
    "else:\n",
    "    print('Ошибка при запросе:', response.status_code)"
   ]
  },
  {
   "cell_type": "code",
   "execution_count": 12,
   "id": "f5671118-61c6-49ee-82e6-f0cb8b366dc5",
   "metadata": {},
   "outputs": [],
   "source": [
    "def clean(text, data):\n",
    "    if data != []:\n",
    "        for i in data:\n",
    "            text = text.replace(i[\"word\"], i[\"s\"][0])\n",
    "        return text\n",
    "    else:\n",
    "        return text"
   ]
  },
  {
   "cell_type": "code",
   "execution_count": 13,
   "id": "d9792d2d-69e6-41bb-9d95-c48ad771ed3a",
   "metadata": {},
   "outputs": [],
   "source": [
    "def req(s, return_word=False):\n",
    "    url = f\"https://speller.yandex.net/services/spellservice.json/checkText?text={s}\"\n",
    "    response = requests.get(url)\n",
    "    if response.status_code == 200:\n",
    "        data = json.loads(response.text)\n",
    "        if return_word == False:\n",
    "            return clean(s, data)\n",
    "        elif return_word == True:\n",
    "            if len(data)>0:\n",
    "                return clean(s, data), [[s, i[\"word\"], i[\"s\"][0]] for i in data]\n",
    "            else:\n",
    "                return clean(s, data), \"NM\""
   ]
  },
  {
   "cell_type": "code",
   "execution_count": 14,
   "id": "511b5417-79d6-4c07-aa7d-6d4a24400954",
   "metadata": {},
   "outputs": [
    {
     "name": "stdout",
     "output_type": "stream",
     "text": [
      "Здесь нет котов\n"
     ]
    }
   ],
   "source": [
    "print(req(\"Здеся нет коттов\"))"
   ]
  },
  {
   "cell_type": "code",
   "execution_count": 15,
   "id": "30690318-fefd-425d-9875-9cf728fc3c18",
   "metadata": {},
   "outputs": [
    {
     "data": {
      "text/plain": [
       "('Здесь нет котов',\n",
       " [['Здеся нет коттов', 'Здеся', 'Здесь'],\n",
       "  ['Здеся нет коттов', 'коттов', 'котов']])"
      ]
     },
     "execution_count": 15,
     "metadata": {},
     "output_type": "execute_result"
    }
   ],
   "source": [
    "req(\"Здеся нет коттов\", return_word=True)"
   ]
  },
  {
   "cell_type": "code",
   "execution_count": 16,
   "id": "de758da8-0d77-4f46-a358-e84ca8a01514",
   "metadata": {},
   "outputs": [],
   "source": [
    "results.append([\"Yandex\", \n",
    "                round(1 - wer(text1_check, req(text1_train))/wer1, 4), #0.55\n",
    "                measure_time(req, text1_train),                        #0.196\n",
    "                round(1 - wer(text2_check, req(text2_train))/wer2, 4), #0.90\n",
    "                measure_time(req, text2_train),                        #0.3431\n",
    "                \"yes\"\n",
    "               ])"
   ]
  },
  {
   "cell_type": "markdown",
   "id": "99bcdad7-1f60-4a4d-b17f-62d7ba830cf3",
   "metadata": {},
   "source": [
    "# language-tool"
   ]
  },
  {
   "cell_type": "code",
   "execution_count": 17,
   "id": "42de572d",
   "metadata": {},
   "outputs": [
    {
     "name": "stdout",
     "output_type": "stream",
     "text": [
      "Requirement already satisfied: language_tool_python in c:\\users\\dmitri\\anaconda3\\lib\\site-packages (2.7.1)\n",
      "Requirement already satisfied: requests in c:\\users\\dmitri\\anaconda3\\lib\\site-packages (from language_tool_python) (2.28.1)\n",
      "Requirement already satisfied: tqdm in c:\\users\\dmitri\\anaconda3\\lib\\site-packages (from language_tool_python) (4.64.1)\n",
      "Requirement already satisfied: urllib3<1.27,>=1.21.1 in c:\\users\\dmitri\\anaconda3\\lib\\site-packages (from requests->language_tool_python) (1.26.14)\n",
      "Requirement already satisfied: idna<4,>=2.5 in c:\\users\\dmitri\\anaconda3\\lib\\site-packages (from requests->language_tool_python) (3.4)\n",
      "Requirement already satisfied: certifi>=2017.4.17 in c:\\users\\dmitri\\anaconda3\\lib\\site-packages (from requests->language_tool_python) (2022.12.7)\n",
      "Requirement already satisfied: charset-normalizer<3,>=2 in c:\\users\\dmitri\\anaconda3\\lib\\site-packages (from requests->language_tool_python) (2.0.4)\n",
      "Requirement already satisfied: colorama in c:\\users\\dmitri\\anaconda3\\lib\\site-packages (from tqdm->language_tool_python) (0.4.6)\n",
      "Note: you may need to restart the kernel to use updated packages.\n"
     ]
    }
   ],
   "source": [
    "pip install language_tool_python"
   ]
  },
  {
   "cell_type": "code",
   "execution_count": 18,
   "id": "5515b3bc-47ad-40a6-88f6-5087477a59e0",
   "metadata": {},
   "outputs": [],
   "source": [
    "import language_tool_python\n",
    "tool_ru = language_tool_python.LanguageToolPublicAPI('ru')\n",
    "tool_en = language_tool_python.LanguageToolPublicAPI('en_BR')"
   ]
  },
  {
   "cell_type": "code",
   "execution_count": 19,
   "id": "daca1dd0-fe6b-4bb2-8bd0-ad3c082aad59",
   "metadata": {},
   "outputs": [
    {
     "data": {
      "text/plain": [
       "'Здесь нет котлов'"
      ]
     },
     "execution_count": 19,
     "metadata": {},
     "output_type": "execute_result"
    }
   ],
   "source": [
    "text = 'Здеся нет коттов'\n",
    "tool_ru.check(text)\n",
    "tool_ru.correct(text)"
   ]
  },
  {
   "cell_type": "code",
   "execution_count": 20,
   "id": "75330762-4e10-46cc-bd7d-438248c11fa4",
   "metadata": {},
   "outputs": [],
   "source": [
    "matches = tool_ru.check(text)"
   ]
  },
  {
   "cell_type": "code",
   "execution_count": 21,
   "id": "2db525ac-368c-496a-aadd-333a13578ac8",
   "metadata": {},
   "outputs": [
    {
     "data": {
      "text/plain": [
       "'Здесь'"
      ]
     },
     "execution_count": 21,
     "metadata": {},
     "output_type": "execute_result"
    }
   ],
   "source": [
    "matches[0].replacements[0]"
   ]
  },
  {
   "cell_type": "code",
   "execution_count": 22,
   "id": "a471a77c-ad5e-4790-839c-a9d6996b0e56",
   "metadata": {},
   "outputs": [],
   "source": [
    "tool = language_tool_python.LanguageToolPublicAPI('ru')\n",
    "def langt(sen, no_matches = True, tool = tool_ru):\n",
    "    if no_matches:\n",
    "        return tool.correct(sen)\n",
    "    else:\n",
    "        matches = tool.check(sen)\n",
    "        return tool.correct(sen), [match.replacements[0] for match in matches]"
   ]
  },
  {
   "cell_type": "code",
   "execution_count": 23,
   "id": "31cfd9f3-7330-47b6-ae9a-f4fb62afaa6f",
   "metadata": {},
   "outputs": [
    {
     "data": {
      "text/plain": [
       "'He is a cat'"
      ]
     },
     "execution_count": 23,
     "metadata": {},
     "output_type": "execute_result"
    }
   ],
   "source": [
    "langt('He is an cat', tool = tool_en)"
   ]
  },
  {
   "cell_type": "code",
   "execution_count": 24,
   "id": "35e81a70-cec6-4819-9daf-e2ada426def8",
   "metadata": {},
   "outputs": [
    {
     "data": {
      "text/plain": [
       "'Здесь нет котлов'"
      ]
     },
     "execution_count": 24,
     "metadata": {},
     "output_type": "execute_result"
    }
   ],
   "source": [
    "langt('Здеся нет коттов')"
   ]
  },
  {
   "cell_type": "code",
   "execution_count": 25,
   "id": "78895aa6-3c0c-40aa-9d62-99e0977bda28",
   "metadata": {},
   "outputs": [
    {
     "data": {
      "text/plain": [
       "('Здесь нет котлов', ['Здесь', 'котлов'])"
      ]
     },
     "execution_count": 25,
     "metadata": {},
     "output_type": "execute_result"
    }
   ],
   "source": [
    "langt('Здеся нет коттов', no_matches=False)"
   ]
  },
  {
   "cell_type": "code",
   "execution_count": 26,
   "id": "ebfdfedd-f550-475e-b868-58d69fba414f",
   "metadata": {},
   "outputs": [],
   "source": [
    "results.append([\"language-tool\", \n",
    "                round(1 - wer(text1_check, langt(text1_train))/wer1, 4),                 #0.3104\n",
    "                measure_time(langt, text1_train),                                        #0.5109\n",
    "                round(1 - wer(text2_check, langt(text2_train, tool = tool_en))/wer2, 4), #0.0\n",
    "                measure_time(langt, text2_train),                                        #0.5452\n",
    "                \"no\"\n",
    "               ])"
   ]
  },
  {
   "cell_type": "markdown",
   "id": "2e625676-cf48-48c9-84a6-1369db531dd5",
   "metadata": {},
   "source": [
    "# pyspellchecker"
   ]
  },
  {
   "cell_type": "code",
   "execution_count": 27,
   "id": "5c62749f-1e8a-44a0-8361-57d4ed0fc383",
   "metadata": {},
   "outputs": [
    {
     "name": "stdout",
     "output_type": "stream",
     "text": [
      "Requirement already satisfied: pyspellchecker in c:\\users\\dmitri\\anaconda3\\lib\\site-packages (0.7.2)\n",
      "Note: you may need to restart the kernel to use updated packages.\n"
     ]
    }
   ],
   "source": [
    "pip install pyspellchecker"
   ]
  },
  {
   "cell_type": "code",
   "execution_count": 28,
   "id": "b7b31e4d-b62a-45c1-b28e-355a19aae2ac",
   "metadata": {},
   "outputs": [
    {
     "name": "stdout",
     "output_type": "stream",
     "text": [
      "happening\n",
      "{'happening', 'henning', 'penning'}\n"
     ]
    }
   ],
   "source": [
    "from spellchecker import SpellChecker\n",
    "import re\n",
    "\n",
    "spell_en = SpellChecker()\n",
    "spell_ru = SpellChecker(language='ru')\n",
    "\n",
    "# find those words that may be misspelled\n",
    "misspelled = spell_en.unknown(['something', 'is', 'hapenning', 'here'])\n",
    "\n",
    "for word in misspelled:\n",
    "    # Get the one `most likely` answer\n",
    "    print(spell_en.correction(word))\n",
    "\n",
    "    # Get a list of `likely` options\n",
    "    print(spell_en.candidates(word))"
   ]
  },
  {
   "cell_type": "code",
   "execution_count": 29,
   "id": "28d0e8ba-e53d-478e-93b1-feeeb1a052c0",
   "metadata": {},
   "outputs": [
    {
     "data": {
      "text/plain": [
       "{'hapenning'}"
      ]
     },
     "execution_count": 29,
     "metadata": {},
     "output_type": "execute_result"
    }
   ],
   "source": [
    "misspelled"
   ]
  },
  {
   "cell_type": "code",
   "execution_count": 30,
   "id": "60df4b23-eb4b-44e9-b337-ecfbab3d3d46",
   "metadata": {},
   "outputs": [
    {
     "name": "stdout",
     "output_type": "stream",
     "text": [
      "CPU times: total: 0 ns\n",
      "Wall time: 0 ns\n"
     ]
    },
    {
     "data": {
      "text/plain": [
       "{'hapenning'}"
      ]
     },
     "execution_count": 30,
     "metadata": {},
     "output_type": "execute_result"
    }
   ],
   "source": [
    "%%time\n",
    "spell_en.unknown(['something', ',', 'hapenning', 'here'])"
   ]
  },
  {
   "cell_type": "code",
   "execution_count": 31,
   "id": "0d862421-9a3e-4531-9e08-540e114236a1",
   "metadata": {},
   "outputs": [],
   "source": [
    "text = \"Hello, Ron!\""
   ]
  },
  {
   "cell_type": "code",
   "execution_count": 32,
   "id": "23a8c8e9-c9af-4090-9f0b-78a3e3e036ab",
   "metadata": {},
   "outputs": [
    {
     "data": {
      "text/plain": [
       "['Hello', ', ', 'Ron', '!']"
      ]
     },
     "execution_count": 32,
     "metadata": {},
     "output_type": "execute_result"
    }
   ],
   "source": [
    "tokens = re.findall(r'\\w+|\\W+', text)\n",
    "tokens"
   ]
  },
  {
   "cell_type": "code",
   "execution_count": 33,
   "id": "21a827ab-3bf0-47bd-821e-c7e1fb98e8cb",
   "metadata": {},
   "outputs": [],
   "source": [
    "import re\n",
    "def spell(text, spell=spell_ru, misspelled_return = False):\n",
    "    clean_text = []\n",
    "    if misspelled_return:\n",
    "        bad = []\n",
    "    for line in text.split(\"\\n\"):\n",
    "        sentences = [i.replace(' ', '') for i in re.findall(r'\\w+|\\W+', text) if i != \" \"]\n",
    "        corrected_words = []\n",
    "        for word in sentences:\n",
    "            if len(word)>1:\n",
    "                corrected_word = spell.correction(word)\n",
    "                if corrected_word == None:\n",
    "                    corrected_word = word\n",
    "            else:\n",
    "                corrected_word = word.replace(\" \", \"\")\n",
    "            corrected_words.append(corrected_word)\n",
    "        misspelled = spell.unknown(sentences)\n",
    "        clean_text.append(corrected_words)\n",
    "        if misspelled_return:\n",
    "            bad.append(misspelled)\n",
    "    if misspelled_return:\n",
    "        clean_text = '\\n'.join([' '.join(line) for line in clean_text if isinstance(line, list)])\n",
    "        return re.sub(r'\\s+([!?,-.])', r'\\1', clean_text), bad\n",
    "    else:\n",
    "        clean_text = '\\n'.join([' '.join(line) for line in clean_text if isinstance(line, list)])\n",
    "        return re.sub(r'\\s+([!?,-.])', r'\\1', clean_text)"
   ]
  },
  {
   "cell_type": "code",
   "execution_count": null,
   "id": "d9120863-d68b-4106-bc6e-b0ddf19bbf87",
   "metadata": {},
   "outputs": [],
   "source": [
    "import re\n",
    "from spellchecker import SpellChecker\n",
    "\n",
    "def spell(text, spell=SpellChecker(language='ru'), misspelled_return=False):\n",
    "    clean_text = []\n",
    "    bad = [] if misspelled_return else None\n",
    "\n",
    "    for line in text.split(\"\\n\"):\n",
    "        sentences = [i.replace(' ', '') for i in re.findall(r'\\w+|\\W+', line) if i != \" \"]\n",
    "        corrected_words = [spell.correction(word) if len(word) > 1 else word.replace(\" \", \"\") for word in sentences]\n",
    "        misspelled = spell.unknown(sentences)\n",
    "\n",
    "        clean_text.append(corrected_words)\n",
    "\n",
    "        if misspelled_return:\n",
    "            bad.append(misspelled)\n",
    "\n",
    "    clean_text = '\\n'.join([' '.join(line) for line in clean_text if isinstance(line, list)])\n",
    "\n",
    "    return (re.sub(r'\\s+([!?,-.])', r'\\1', clean_text), bad) if misspelled_return else re.sub(r'\\s+([!?,-.])', r'\\1', clean_text)"
   ]
  },
  {
   "cell_type": "code",
   "execution_count": 34,
   "id": "79bd319a-8b45-48a5-8c64-a3ea6d32bf32",
   "metadata": {},
   "outputs": [
    {
     "data": {
      "text/plain": [
       "'The next, text'"
      ]
     },
     "execution_count": 34,
     "metadata": {},
     "output_type": "execute_result"
    }
   ],
   "source": [
    "spell(\"The neext, ttext\", spell_en)"
   ]
  },
  {
   "cell_type": "code",
   "execution_count": 35,
   "id": "613f0107-c065-4e12-aa32-7f8cb01d008b",
   "metadata": {},
   "outputs": [
    {
     "data": {
      "text/plain": [
       "'здесь нет готов'"
      ]
     },
     "execution_count": 35,
     "metadata": {},
     "output_type": "execute_result"
    }
   ],
   "source": [
    "spell('Здеся нет коттов')"
   ]
  },
  {
   "cell_type": "code",
   "execution_count": 36,
   "id": "94133fb1-6737-4b0a-9818-96a787241782",
   "metadata": {},
   "outputs": [
    {
     "data": {
      "text/plain": [
       "'МобилТел'"
      ]
     },
     "execution_count": 36,
     "metadata": {},
     "output_type": "execute_result"
    }
   ],
   "source": [
    "spell(\"МобилТел\")"
   ]
  },
  {
   "cell_type": "code",
   "execution_count": 37,
   "id": "85b82679-1732-43b6-bef1-f92814f504be",
   "metadata": {},
   "outputs": [],
   "source": [
    "results.append([\"pyspellchecker\", \n",
    "                round(1 - wer(text1_check, spell(text1_train))/wer1, 4),                 #-25.0671\n",
    "                measure_time(spell, text1_train),                                        #49.4834\n",
    "                round(1 - wer(text2_check, spell(text2_train, spell = spell_en))/wer2, 4), #-14.5869\n",
    "                measure_time(spell, text2_train),                                        #41.4297\n",
    "                \"no\"\n",
    "               ])"
   ]
  },
  {
   "cell_type": "markdown",
   "id": "0cab3c8f-77ba-41d7-8323-e5082e5a4f3d",
   "metadata": {},
   "source": [
    "# Тестирование"
   ]
  },
  {
   "cell_type": "code",
   "execution_count": 38,
   "id": "9af2385a-25c2-4bfd-8ee6-fc9410bb5966",
   "metadata": {},
   "outputs": [],
   "source": [
    "import pandas as pd"
   ]
  },
  {
   "cell_type": "code",
   "execution_count": 39,
   "id": "a1cc660e",
   "metadata": {},
   "outputs": [
    {
     "data": {
      "text/html": [
       "<div>\n",
       "<style scoped>\n",
       "    .dataframe tbody tr th:only-of-type {\n",
       "        vertical-align: middle;\n",
       "    }\n",
       "\n",
       "    .dataframe tbody tr th {\n",
       "        vertical-align: top;\n",
       "    }\n",
       "\n",
       "    .dataframe thead th {\n",
       "        text-align: right;\n",
       "    }\n",
       "</style>\n",
       "<table border=\"1\" class=\"dataframe\">\n",
       "  <thead>\n",
       "    <tr style=\"text-align: right;\">\n",
       "      <th></th>\n",
       "      <th>spellchecker</th>\n",
       "      <th>ru_text</th>\n",
       "      <th>ru_time</th>\n",
       "      <th>en_text</th>\n",
       "      <th>en_time</th>\n",
       "      <th>multilang</th>\n",
       "    </tr>\n",
       "  </thead>\n",
       "  <tbody>\n",
       "    <tr>\n",
       "      <th>0</th>\n",
       "      <td>Yandex</td>\n",
       "      <td>0.5519</td>\n",
       "      <td>0.5088</td>\n",
       "      <td>0.8966</td>\n",
       "      <td>0.2615</td>\n",
       "      <td>yes</td>\n",
       "    </tr>\n",
       "    <tr>\n",
       "      <th>1</th>\n",
       "      <td>language-tool</td>\n",
       "      <td>0.3104</td>\n",
       "      <td>1.1699</td>\n",
       "      <td>0.0000</td>\n",
       "      <td>55.4561</td>\n",
       "      <td>no</td>\n",
       "    </tr>\n",
       "    <tr>\n",
       "      <th>2</th>\n",
       "      <td>pyspellchecker</td>\n",
       "      <td>-25.0671</td>\n",
       "      <td>116.7624</td>\n",
       "      <td>-14.5869</td>\n",
       "      <td>99.0206</td>\n",
       "      <td>no</td>\n",
       "    </tr>\n",
       "  </tbody>\n",
       "</table>\n",
       "</div>"
      ],
      "text/plain": [
       "     spellchecker  ru_text   ru_time  en_text  en_time multilang\n",
       "0          Yandex   0.5519    0.5088   0.8966   0.2615       yes\n",
       "1   language-tool   0.3104    1.1699   0.0000  55.4561        no\n",
       "2  pyspellchecker -25.0671  116.7624 -14.5869  99.0206        no"
      ]
     },
     "execution_count": 39,
     "metadata": {},
     "output_type": "execute_result"
    }
   ],
   "source": [
    "pd.DataFrame(results[1:], columns=results[0])"
   ]
  },
  {
   "cell_type": "markdown",
   "id": "294e886d",
   "metadata": {},
   "source": [
    "# Выводы"
   ]
  },
  {
   "cell_type": "markdown",
   "id": "dace97ca",
   "metadata": {},
   "source": [
    "Самым качественным, удобным и быстрым оказался спеллчекер от Яндекса."
   ]
  }
 ],
 "metadata": {
  "kernelspec": {
   "display_name": "Python 3 (ipykernel)",
   "language": "python",
   "name": "python3"
  },
  "language_info": {
   "codemirror_mode": {
    "name": "ipython",
    "version": 3
   },
   "file_extension": ".py",
   "mimetype": "text/x-python",
   "name": "python",
   "nbconvert_exporter": "python",
   "pygments_lexer": "ipython3",
   "version": "3.9.16"
  },
  "toc": {
   "base_numbering": 1,
   "nav_menu": {},
   "number_sections": true,
   "sideBar": true,
   "skip_h1_title": false,
   "title_cell": "Table of Contents",
   "title_sidebar": "Contents",
   "toc_cell": false,
   "toc_position": {},
   "toc_section_display": true,
   "toc_window_display": false
  }
 },
 "nbformat": 4,
 "nbformat_minor": 5
}
